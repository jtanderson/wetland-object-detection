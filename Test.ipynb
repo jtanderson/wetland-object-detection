{
 "cells": [
  {
   "cell_type": "code",
   "execution_count": 1,
   "metadata": {},
   "outputs": [],
   "source": [
    "import numpy as np\n",
    "from numpy import histogram\n",
    "import cv2\n",
    "from matplotlib import pyplot as plt"
   ]
  },
  {
   "cell_type": "code",
   "execution_count": null,
   "metadata": {},
   "outputs": [],
   "source": []
  },
  {
   "cell_type": "code",
   "execution_count": 7,
   "metadata": {},
   "outputs": [
    {
     "data": {
      "text/plain": [
       "(array([0.0000e+00, 0.0000e+00, 0.0000e+00, 0.0000e+00, 0.0000e+00,\n",
       "        0.0000e+00, 0.0000e+00, 0.0000e+00, 0.0000e+00, 0.0000e+00,\n",
       "        0.0000e+00, 0.0000e+00, 0.0000e+00, 0.0000e+00, 0.0000e+00,\n",
       "        0.0000e+00, 0.0000e+00, 0.0000e+00, 0.0000e+00, 0.0000e+00,\n",
       "        0.0000e+00, 0.0000e+00, 0.0000e+00, 0.0000e+00, 0.0000e+00,\n",
       "        0.0000e+00, 0.0000e+00, 0.0000e+00, 0.0000e+00, 5.0000e+00,\n",
       "        1.4000e+01, 2.3000e+01, 2.5000e+01, 3.0000e+01, 5.5000e+01,\n",
       "        4.2000e+01, 4.0000e+01, 2.6000e+01, 2.2000e+01, 2.3000e+01,\n",
       "        2.5000e+01, 3.2000e+01, 2.3000e+01, 4.1000e+01, 4.9000e+01,\n",
       "        4.2000e+01, 3.8000e+01, 5.1000e+01, 5.1000e+01, 7.6000e+01,\n",
       "        7.7000e+01, 1.0500e+02, 1.4300e+02, 1.3100e+02, 1.2500e+02,\n",
       "        1.9600e+02, 1.8700e+02, 2.1100e+02, 2.4700e+02, 2.6500e+02,\n",
       "        3.4200e+02, 4.3200e+02, 4.7700e+02, 5.4300e+02, 6.3800e+02,\n",
       "        8.0300e+02, 9.4900e+02, 1.0960e+03, 1.2630e+03, 1.4790e+03,\n",
       "        1.6170e+03, 1.8950e+03, 2.1060e+03, 2.4510e+03, 2.6690e+03,\n",
       "        3.0880e+03, 3.4680e+03, 3.7400e+03, 4.1300e+03, 4.6630e+03,\n",
       "        5.1630e+03, 5.5160e+03, 5.9560e+03, 6.5020e+03, 7.0140e+03,\n",
       "        7.6080e+03, 8.0650e+03, 8.7790e+03, 9.4790e+03, 9.7280e+03,\n",
       "        1.0113e+04, 1.1100e+04, 1.1822e+04, 1.2333e+04, 1.2907e+04,\n",
       "        1.3469e+04, 1.4229e+04, 1.4896e+04, 1.4864e+04, 1.5698e+04,\n",
       "        1.6364e+04, 1.6927e+04, 1.7031e+04, 1.7924e+04, 1.8082e+04,\n",
       "        1.8603e+04, 1.8615e+04, 1.8944e+04, 1.9424e+04, 1.9945e+04,\n",
       "        1.9835e+04, 2.0390e+04, 2.0266e+04, 2.0363e+04, 1.9730e+04,\n",
       "        2.0365e+04, 2.0469e+04, 2.0364e+04, 1.9618e+04, 1.9873e+04,\n",
       "        1.9738e+04, 1.9479e+04, 1.8901e+04, 1.9124e+04, 1.8694e+04,\n",
       "        1.8325e+04, 1.7776e+04, 1.7449e+04, 1.7359e+04, 1.6611e+04,\n",
       "        1.4948e+04, 1.5288e+04, 1.5355e+04, 1.4786e+04, 1.4129e+04,\n",
       "        1.4016e+04, 1.3773e+04, 1.3100e+04, 1.2426e+04, 1.2524e+04,\n",
       "        1.2093e+04, 1.1566e+04, 1.0944e+04, 1.1028e+04, 1.0560e+04,\n",
       "        9.9730e+03, 9.3430e+03, 9.2520e+03, 9.1790e+03, 8.9830e+03,\n",
       "        8.3350e+03, 8.1990e+03, 7.8600e+03, 7.5150e+03, 7.2420e+03,\n",
       "        6.9460e+03, 6.6780e+03, 6.4810e+03, 5.8900e+03, 5.8250e+03,\n",
       "        5.6640e+03, 5.3000e+03, 5.0520e+03, 4.9580e+03, 4.6250e+03,\n",
       "        4.4210e+03, 4.1640e+03, 3.9980e+03, 3.8320e+03, 3.6100e+03,\n",
       "        3.3090e+03, 3.3480e+03, 3.0480e+03, 2.8840e+03, 2.8700e+03,\n",
       "        2.5540e+03, 2.4190e+03, 2.2870e+03, 2.0930e+03, 2.0540e+03,\n",
       "        2.0060e+03, 1.8740e+03, 1.8290e+03, 1.6500e+03, 1.4890e+03,\n",
       "        1.3890e+03, 1.3050e+03, 1.2130e+03, 1.2160e+03, 1.1380e+03,\n",
       "        1.0970e+03, 9.6900e+02, 9.3800e+02, 8.5100e+02, 7.7900e+02,\n",
       "        7.5800e+02, 6.8900e+02, 6.0900e+02, 5.9700e+02, 5.0100e+02,\n",
       "        5.0400e+02, 4.4200e+02, 4.3400e+02, 3.8400e+02, 3.6300e+02,\n",
       "        3.0600e+02, 3.1100e+02, 2.8600e+02, 2.5000e+02, 2.0400e+02,\n",
       "        2.0100e+02, 1.8300e+02, 1.7600e+02, 1.5100e+02, 1.2500e+02,\n",
       "        1.0300e+02, 1.2000e+02, 9.4000e+01, 8.3000e+01, 7.4000e+01,\n",
       "        5.1000e+01, 6.3000e+01, 5.2000e+01, 5.5000e+01, 4.6000e+01,\n",
       "        4.3000e+01, 4.0000e+01, 4.2000e+01, 2.1000e+01, 2.4000e+01,\n",
       "        2.3000e+01, 2.4000e+01, 2.3000e+01, 1.7000e+01, 1.8000e+01,\n",
       "        1.1000e+01, 1.6000e+01, 2.2000e+01, 1.8000e+01, 1.0000e+01,\n",
       "        2.0000e+00, 8.0000e+00, 3.0000e+00, 1.4000e+01, 9.0000e+00,\n",
       "        7.0000e+00, 5.0000e+00, 8.0000e+00, 3.0000e+00, 5.0000e+00,\n",
       "        3.0000e+00, 5.0000e+00, 4.0000e+00, 1.5890e+03]),\n",
       " array([  1,   2,   3,   4,   5,   6,   7,   8,   9,  10,  11,  12,  13,\n",
       "         14,  15,  16,  17,  18,  19,  20,  21,  22,  23,  24,  25,  26,\n",
       "         27,  28,  29,  30,  31,  32,  33,  34,  35,  36,  37,  38,  39,\n",
       "         40,  41,  42,  43,  44,  45,  46,  47,  48,  49,  50,  51,  52,\n",
       "         53,  54,  55,  56,  57,  58,  59,  60,  61,  62,  63,  64,  65,\n",
       "         66,  67,  68,  69,  70,  71,  72,  73,  74,  75,  76,  77,  78,\n",
       "         79,  80,  81,  82,  83,  84,  85,  86,  87,  88,  89,  90,  91,\n",
       "         92,  93,  94,  95,  96,  97,  98,  99, 100, 101, 102, 103, 104,\n",
       "        105, 106, 107, 108, 109, 110, 111, 112, 113, 114, 115, 116, 117,\n",
       "        118, 119, 120, 121, 122, 123, 124, 125, 126, 127, 128, 129, 130,\n",
       "        131, 132, 133, 134, 135, 136, 137, 138, 139, 140, 141, 142, 143,\n",
       "        144, 145, 146, 147, 148, 149, 150, 151, 152, 153, 154, 155, 156,\n",
       "        157, 158, 159, 160, 161, 162, 163, 164, 165, 166, 167, 168, 169,\n",
       "        170, 171, 172, 173, 174, 175, 176, 177, 178, 179, 180, 181, 182,\n",
       "        183, 184, 185, 186, 187, 188, 189, 190, 191, 192, 193, 194, 195,\n",
       "        196, 197, 198, 199, 200, 201, 202, 203, 204, 205, 206, 207, 208,\n",
       "        209, 210, 211, 212, 213, 214, 215, 216, 217, 218, 219, 220, 221,\n",
       "        222, 223, 224, 225, 226, 227, 228, 229, 230, 231, 232, 233, 234,\n",
       "        235, 236, 237, 238, 239, 240, 241, 242, 243, 244, 245, 246, 247,\n",
       "        248, 249, 250, 251, 252, 253, 254, 255]),\n",
       " <a list of 254 Patch objects>)"
      ]
     },
     "execution_count": 7,
     "metadata": {},
     "output_type": "execute_result"
    },
    {
     "data": {
      "image/png": "[encoded data removed]",
      "text/plain": [
       "<Figure size 432x288 with 1 Axes>"
      ]
     },
     "metadata": {},
     "output_type": "display_data"
    }
   ],
   "source": [
    "im = np.array(cv2.imread(\"IMG_0020_2.tif\"))\n",
    "im = im[:,:,0]\n",
    "h = np.array(np.histogram(im))\n",
    "plt.hist(im.flatten(), bins=np.arange(1,256))"
   ]
  },
  {
   "cell_type": "code",
   "execution_count": 8,
   "metadata": {},
   "outputs": [
    {
     "data": {
      "text/plain": [
       "(array([0.0000e+00, 0.0000e+00, 0.0000e+00, 0.0000e+00, 0.0000e+00,\n",
       "        0.0000e+00, 0.0000e+00, 0.0000e+00, 0.0000e+00, 0.0000e+00,\n",
       "        0.0000e+00, 0.0000e+00, 0.0000e+00, 0.0000e+00, 0.0000e+00,\n",
       "        0.0000e+00, 0.0000e+00, 0.0000e+00, 0.0000e+00, 0.0000e+00,\n",
       "        0.0000e+00, 0.0000e+00, 0.0000e+00, 0.0000e+00, 0.0000e+00,\n",
       "        0.0000e+00, 0.0000e+00, 0.0000e+00, 0.0000e+00, 0.0000e+00,\n",
       "        0.0000e+00, 0.0000e+00, 0.0000e+00, 0.0000e+00, 0.0000e+00,\n",
       "        0.0000e+00, 0.0000e+00, 0.0000e+00, 0.0000e+00, 0.0000e+00,\n",
       "        0.0000e+00, 0.0000e+00, 0.0000e+00, 0.0000e+00, 0.0000e+00,\n",
       "        0.0000e+00, 0.0000e+00, 0.0000e+00, 0.0000e+00, 1.0000e+00,\n",
       "        2.0000e+00, 1.0000e+00, 1.0000e+00, 6.0000e+00, 1.0000e+01,\n",
       "        7.0000e+00, 1.5000e+01, 1.6000e+01, 1.9000e+01, 2.8000e+01,\n",
       "        3.4000e+01, 4.4000e+01, 5.4000e+01, 8.6000e+01, 1.0600e+02,\n",
       "        1.2800e+02, 1.3700e+02, 2.0700e+02, 2.6400e+02, 2.6600e+02,\n",
       "        3.6600e+02, 4.1000e+02, 5.5800e+02, 6.2300e+02, 7.3400e+02,\n",
       "        8.4600e+02, 1.0160e+03, 1.1970e+03, 1.3640e+03, 1.5060e+03,\n",
       "        1.8410e+03, 2.0140e+03, 2.2580e+03, 2.6290e+03, 3.0220e+03,\n",
       "        3.3860e+03, 3.5240e+03, 4.1980e+03, 4.6880e+03, 5.0660e+03,\n",
       "        5.4440e+03, 6.0370e+03, 6.6570e+03, 7.3380e+03, 7.6940e+03,\n",
       "        8.2700e+03, 8.9430e+03, 9.4930e+03, 9.9230e+03, 1.0736e+04,\n",
       "        1.1198e+04, 1.1646e+04, 1.1979e+04, 1.2818e+04, 1.3592e+04,\n",
       "        1.3763e+04, 1.4273e+04, 1.4589e+04, 1.5316e+04, 1.5615e+04,\n",
       "        1.5784e+04, 1.6690e+04, 1.6878e+04, 1.7295e+04, 1.6718e+04,\n",
       "        1.7581e+04, 1.8083e+04, 1.8084e+04, 1.8065e+04, 1.8692e+04,\n",
       "        1.9139e+04, 1.8960e+04, 1.8428e+04, 1.8787e+04, 1.9237e+04,\n",
       "        1.8944e+04, 1.8628e+04, 1.9127e+04, 1.8828e+04, 1.8566e+04,\n",
       "        1.6765e+04, 1.7506e+04, 1.7911e+04, 1.7817e+04, 1.6870e+04,\n",
       "        1.7299e+04, 1.6929e+04, 1.6790e+04, 1.5824e+04, 1.6028e+04,\n",
       "        1.5667e+04, 1.5627e+04, 1.4821e+04, 1.4709e+04, 1.4657e+04,\n",
       "        1.4178e+04, 1.3331e+04, 1.3348e+04, 1.3107e+04, 1.2916e+04,\n",
       "        1.2417e+04, 1.2393e+04, 1.1919e+04, 1.1460e+04, 1.1024e+04,\n",
       "        1.1122e+04, 1.0698e+04, 1.0340e+04, 9.7080e+03, 9.5310e+03,\n",
       "        9.0780e+03, 8.9040e+03, 8.2890e+03, 8.4120e+03, 7.9310e+03,\n",
       "        7.6130e+03, 7.0730e+03, 7.0390e+03, 6.7280e+03, 6.5370e+03,\n",
       "        5.9410e+03, 5.7530e+03, 5.6200e+03, 5.4300e+03, 4.9510e+03,\n",
       "        4.6950e+03, 4.6960e+03, 4.3090e+03, 3.9590e+03, 4.0570e+03,\n",
       "        3.8140e+03, 3.5550e+03, 3.2330e+03, 3.1440e+03, 3.0250e+03,\n",
       "        2.8800e+03, 2.5770e+03, 2.5530e+03, 2.3960e+03, 2.1560e+03,\n",
       "        1.9530e+03, 1.9160e+03, 1.8720e+03, 1.6860e+03, 1.5120e+03,\n",
       "        1.4540e+03, 1.3790e+03, 1.2790e+03, 1.2030e+03, 1.0960e+03,\n",
       "        1.0620e+03, 9.6400e+02, 8.9200e+02, 8.3600e+02, 7.4000e+02,\n",
       "        7.2400e+02, 6.8200e+02, 6.0700e+02, 5.6300e+02, 5.0700e+02,\n",
       "        4.3800e+02, 4.5900e+02, 4.1200e+02, 3.7900e+02, 3.5800e+02,\n",
       "        3.5200e+02, 3.2300e+02, 2.6300e+02, 2.6000e+02, 2.2200e+02,\n",
       "        2.3600e+02, 1.9200e+02, 1.7800e+02, 1.7700e+02, 1.3700e+02,\n",
       "        1.3600e+02, 1.3300e+02, 1.2000e+02, 1.0900e+02, 1.0300e+02,\n",
       "        1.0100e+02, 8.4000e+01, 8.9000e+01, 7.4000e+01, 7.6000e+01,\n",
       "        8.3000e+01, 7.7000e+01, 5.2000e+01, 5.1000e+01, 4.0000e+01,\n",
       "        3.6000e+01, 4.4000e+01, 3.7000e+01, 2.9000e+01, 2.8000e+01,\n",
       "        3.3000e+01, 3.4000e+01, 3.1000e+01, 2.8000e+01, 2.2000e+01,\n",
       "        1.7000e+01, 1.2000e+01, 1.9000e+01, 2.1300e+02]),\n",
       " array([  1,   2,   3,   4,   5,   6,   7,   8,   9,  10,  11,  12,  13,\n",
       "         14,  15,  16,  17,  18,  19,  20,  21,  22,  23,  24,  25,  26,\n",
       "         27,  28,  29,  30,  31,  32,  33,  34,  35,  36,  37,  38,  39,\n",
       "         40,  41,  42,  43,  44,  45,  46,  47,  48,  49,  50,  51,  52,\n",
       "         53,  54,  55,  56,  57,  58,  59,  60,  61,  62,  63,  64,  65,\n",
       "         66,  67,  68,  69,  70,  71,  72,  73,  74,  75,  76,  77,  78,\n",
       "         79,  80,  81,  82,  83,  84,  85,  86,  87,  88,  89,  90,  91,\n",
       "         92,  93,  94,  95,  96,  97,  98,  99, 100, 101, 102, 103, 104,\n",
       "        105, 106, 107, 108, 109, 110, 111, 112, 113, 114, 115, 116, 117,\n",
       "        118, 119, 120, 121, 122, 123, 124, 125, 126, 127, 128, 129, 130,\n",
       "        131, 132, 133, 134, 135, 136, 137, 138, 139, 140, 141, 142, 143,\n",
       "        144, 145, 146, 147, 148, 149, 150, 151, 152, 153, 154, 155, 156,\n",
       "        157, 158, 159, 160, 161, 162, 163, 164, 165, 166, 167, 168, 169,\n",
       "        170, 171, 172, 173, 174, 175, 176, 177, 178, 179, 180, 181, 182,\n",
       "        183, 184, 185, 186, 187, 188, 189, 190, 191, 192, 193, 194, 195,\n",
       "        196, 197, 198, 199, 200, 201, 202, 203, 204, 205, 206, 207, 208,\n",
       "        209, 210, 211, 212, 213, 214, 215, 216, 217, 218, 219, 220, 221,\n",
       "        222, 223, 224, 225, 226, 227, 228, 229, 230, 231, 232, 233, 234,\n",
       "        235, 236, 237, 238, 239, 240, 241, 242, 243, 244, 245, 246, 247,\n",
       "        248, 249, 250, 251, 252, 253, 254, 255]),\n",
       " <a list of 254 Patch objects>)"
      ]
     },
     "execution_count": 8,
     "metadata": {},
     "output_type": "execute_result"
    },
    {
     "data": {
      "image/png": "[encoded data removed]",
      "text/plain": [
       "<Figure size 432x288 with 1 Axes>"
      ]
     },
     "metadata": {},
     "output_type": "display_data"
    }
   ],
   "source": [
    "im = np.array(cv2.imread(\"IMG_0022_2.tif\"))\n",
    "im = im[:,:,0]\n",
    "h = np.array(np.histogram(im))\n",
    "plt.hist(im.flatten(), bins=np.arange(1,256))"
   ]
  },
  {
   "cell_type": "code",
   "execution_count": 9,
   "metadata": {},
   "outputs": [
    {
     "data": {
      "text/plain": [
       "(array([ 48.,  56.,  64.,  81.,  80.,  91.,  93., 118., 156., 178., 186.,\n",
       "        220., 196., 259., 264., 297., 295., 334., 366., 421., 411., 559.,\n",
       "        584., 552., 548., 512., 487., 530., 451., 450., 413., 385., 367.,\n",
       "        368., 337., 350., 299., 334., 339., 366., 303., 351., 314., 337.,\n",
       "        350., 357., 312., 288., 293., 280., 264., 306., 273., 259., 297.,\n",
       "        291., 265., 295., 311., 271., 285., 248., 269., 323., 280., 269.,\n",
       "        292., 309., 276., 268., 324., 297., 282., 288., 316., 297., 273.,\n",
       "        289., 278., 290., 279., 239., 248., 222., 267., 258., 232., 241.,\n",
       "        250., 251., 251., 248., 272., 237., 240., 284., 260., 256., 255.,\n",
       "        298., 281., 274., 331., 318., 298., 301., 329., 297., 343., 325.,\n",
       "        335., 337., 302., 311., 335., 319., 341., 301., 341., 340., 340.,\n",
       "        346., 307., 408., 387., 323., 317., 322., 313., 303., 269., 291.,\n",
       "        283., 270., 266., 261., 256., 267., 247., 251., 236., 224., 241.,\n",
       "        264., 252., 224., 219., 220., 201., 179., 162., 206., 205., 204.,\n",
       "        187., 206., 204., 190., 205., 195., 232., 211., 228., 217., 217.,\n",
       "        237., 213., 203., 180., 159., 130., 149., 144., 102., 111., 115.,\n",
       "        107.,  90.,  90., 105.,  96.,  90.,  77.,  76.,  84.,  44.,  41.,\n",
       "         37.,  22.,  17.,  22.,  23.,  12.,  16.,  17.,  16.,  11.,   8.,\n",
       "         12.,  10.,  20.,   6.,  10.,  18.,  14.,  12.,  13.,  23.,  12.,\n",
       "         16.,  13.,   6.,  11.,   6.,  10.,  10.,   4.,   6.,   2.,   3.,\n",
       "          2.,   1.,   0.,   0.,   0.,   0.,   0.,   0.,   0.,   0.,   0.,\n",
       "          0.,   0.,   0.,   0.,   0.,   0.,   0.,   0.,   0.,   0.,   0.,\n",
       "          0.,   0.,   0.,   0.,   0.,   0.,   0.,   0.,   0.,   0.,   0.,\n",
       "          0.]),\n",
       " array([  1,   2,   3,   4,   5,   6,   7,   8,   9,  10,  11,  12,  13,\n",
       "         14,  15,  16,  17,  18,  19,  20,  21,  22,  23,  24,  25,  26,\n",
       "         27,  28,  29,  30,  31,  32,  33,  34,  35,  36,  37,  38,  39,\n",
       "         40,  41,  42,  43,  44,  45,  46,  47,  48,  49,  50,  51,  52,\n",
       "         53,  54,  55,  56,  57,  58,  59,  60,  61,  62,  63,  64,  65,\n",
       "         66,  67,  68,  69,  70,  71,  72,  73,  74,  75,  76,  77,  78,\n",
       "         79,  80,  81,  82,  83,  84,  85,  86,  87,  88,  89,  90,  91,\n",
       "         92,  93,  94,  95,  96,  97,  98,  99, 100, 101, 102, 103, 104,\n",
       "        105, 106, 107, 108, 109, 110, 111, 112, 113, 114, 115, 116, 117,\n",
       "        118, 119, 120, 121, 122, 123, 124, 125, 126, 127, 128, 129, 130,\n",
       "        131, 132, 133, 134, 135, 136, 137, 138, 139, 140, 141, 142, 143,\n",
       "        144, 145, 146, 147, 148, 149, 150, 151, 152, 153, 154, 155, 156,\n",
       "        157, 158, 159, 160, 161, 162, 163, 164, 165, 166, 167, 168, 169,\n",
       "        170, 171, 172, 173, 174, 175, 176, 177, 178, 179, 180, 181, 182,\n",
       "        183, 184, 185, 186, 187, 188, 189, 190, 191, 192, 193, 194, 195,\n",
       "        196, 197, 198, 199, 200, 201, 202, 203, 204, 205, 206, 207, 208,\n",
       "        209, 210, 211, 212, 213, 214, 215, 216, 217, 218, 219, 220, 221,\n",
       "        222, 223, 224, 225, 226, 227, 228, 229, 230, 231, 232, 233, 234,\n",
       "        235, 236, 237, 238, 239, 240, 241, 242, 243, 244, 245, 246, 247,\n",
       "        248, 249, 250, 251, 252, 253, 254, 255]),\n",
       " <a list of 254 Patch objects>)"
      ]
     },
     "execution_count": 9,
     "metadata": {},
     "output_type": "execute_result"
    },
    {
     "data": {
      "image/png": "[encoded data removed]",
      "text/plain": [
       "<Figure size 432x288 with 1 Axes>"
      ]
     },
     "metadata": {},
     "output_type": "display_data"
    }
   ],
   "source": [
    "im = np.array(cv2.imread(\"cat.jpg\"))\n",
    "im = im[:,:,0]\n",
    "h = np.array(np.histogram(im))\n",
    "plt.hist(im.flatten(), bins=np.arange(1,256))"
   ]
  },
  {
   "cell_type": "code",
   "execution_count": null,
   "metadata": {},
   "outputs": [],
   "source": []
  }
 ],
 "metadata": {
  "kernelspec": {
   "display_name": "Python 3",
   "language": "python",
   "name": "python3"
  },
  "language_info": {
   "codemirror_mode": {
    "name": "ipython",
    "version": 3
   },
   "file_extension": ".py",
   "mimetype": "text/x-python",
   "name": "python",
   "nbconvert_exporter": "python",
   "pygments_lexer": "ipython3",
   "version": "3.6.5"
  }
 },
 "nbformat": 4,
 "nbformat_minor": 2
}
